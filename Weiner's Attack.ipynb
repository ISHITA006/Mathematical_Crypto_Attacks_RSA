{
 "cells": [
  {
   "cell_type": "code",
   "execution_count": 15,
   "metadata": {},
   "outputs": [],
   "source": [
    "from sympy.solvers import solve\n",
    "from sympy import Symbol\n",
    "from fractions import Fraction\n",
    "import math"
   ]
  },
  {
   "cell_type": "code",
   "execution_count": 16,
   "metadata": {},
   "outputs": [],
   "source": [
    "# Functions to perform weiner attack\n",
    "\n",
    "# euclidean alogrithm to obtain continued fraction expansion of x/y\n",
    "def partial_quotients(x, y):\n",
    "    pq = []\n",
    "    while x != 1:\n",
    "        pq.append(x // y)\n",
    "        a = y\n",
    "        b = x % y\n",
    "        x = a\n",
    "        y = b\n",
    "    return pq\n",
    "\n",
    "# obtaining rational convergent\n",
    "def rational(pq):\n",
    "    i = len(pq) - 1\n",
    "    num = pq[i]\n",
    "    denom = 1\n",
    "    while i > 0:\n",
    "        i -= 1\n",
    "        a = (pq[i] * num) + denom\n",
    "        b = num\n",
    "        num = a\n",
    "        denom = b\n",
    "    return (num, denom)\n",
    "\n",
    "# getting 1st to last convergent of the continued fraction\n",
    "def convergents(pq):\n",
    "    c = []\n",
    "    for i in range(1, len(pq)):\n",
    "        c.append(rational(pq[0:i]))\n",
    "    return c\n",
    "\n",
    "# obtaining phi(n) from the approximated k/d value\n",
    "def phiN(e, d, k):\n",
    "    phiN = ((Fraction(e) * Fraction(d)) - 1)/Fraction(k)\n",
    "    return phiN"
   ]
  },
  {
   "cell_type": "code",
   "execution_count": 17,
   "metadata": {},
   "outputs": [],
   "source": [
    "def string_to_int(s):\n",
    "    return int.from_bytes(s.encode(), byteorder='little')\n",
    "\n",
    "def int_to_string(i):\n",
    "    length = math.ceil(i.bit_length() / 8)\n",
    "    return i.to_bytes(length, byteorder='little').decode()"
   ]
  },
  {
   "cell_type": "code",
   "execution_count": 18,
   "metadata": {},
   "outputs": [
    {
     "name": "stdout",
     "output_type": "stream",
     "text": [
      "121404708502361365413651816\n"
     ]
    }
   ],
   "source": [
    "plaintext = string_to_int(\"hello world\")\n",
    "print(plaintext)"
   ]
  },
  {
   "cell_type": "code",
   "execution_count": 19,
   "metadata": {},
   "outputs": [],
   "source": [
    "# values of e and n that are susceptible to Weiner's attack\\\n",
    "\n",
    "# e = 17993\n",
    "# n = 90581\n",
    "\n",
    "e = 318540665379393469901456665807211509077755719995811520039095212139429238053864597311950397094944291616119321660193803737677538864969915331331528398734504661147661499115125056479426948683504604460936703005724827506058051215012025774714463561829608252938657297504427643593752676857551877096958959488289759878259498255905255543409142370769036479607835226542428818361327569095305960454592450213005148130508649794732855515489990191085723757628463901282599712670814223322126866814011761400443596552984309315434653984387419451894484613987942298157348306834118923950284809853541881602043240244910348705406353947587203832407\n",
    "n = 338630205260455689413627911306068443537112802550361922213620660503310212139001530156458392949653034244789612680980241965923780722889133495349537107789761426092510299239678696031652780059016898519278860185536978111680123402473365833456785718098200501968322228116681190425490850863660038143310790555506293106653050174262471649179173093656763946257235681980586392230447218179278964626176124426615857733950102117938674282636936094069075258237416065546593509302494726576026227551920883962084579635168761189995794814926094510046419165007371450799003658587100556051088147493947712592469412133312536422828670173807709914587"
   ]
  },
  {
   "cell_type": "code",
   "execution_count": 20,
   "metadata": {},
   "outputs": [],
   "source": [
    "ciphertext = pow(plaintext, e, n)"
   ]
  },
  {
   "cell_type": "code",
   "execution_count": 21,
   "metadata": {},
   "outputs": [
    {
     "name": "stdout",
     "output_type": "stream",
     "text": [
      "p = 12001304129015480165432875074437607933493850611499879464845243350215176144760883615322622081442653872645865326992384034722586201972392183010813439352778246403016897976571514715418700569567613729681273931557848857971070286176848136118602099586101089743239644367344468295964691411425416652519752140536869089101\n",
      "\n",
      "q = 28216117316929874067495888027767527011360661622486842768414059951572932145196930641365509243766454218518793508840136548374994021850853203018205749779390383366761851772055038753940967432004901699256177783249460134792699230632136386268348434203012426963129659057781488950062703849444443906614331812260961682887\n",
      "\n",
      "Found correct value of d!!!\n",
      "d = 724746542590011388513367385228693742222740657137483753552318433232068370338961145215199994578740789016238655979015224570943\n",
      "\n",
      "Hacked plaintext: hello world\n"
     ]
    }
   ],
   "source": [
    "pq = partial_quotients(e, n)\n",
    "c = convergents(pq)\n",
    "x = Symbol('x')\n",
    "for (k, d) in c:\n",
    "    if k != 0:\n",
    "        # y = p + q\n",
    "        y = n - phiN(e, d, k) + 1\n",
    "        # p, q will be roots of this eqn: (x-p)(x-q) = x^2 - (p+q)x + pq\n",
    "        roots = solve(x ** 2 - y * x + n, x)\n",
    "        if len(roots) == 2:\n",
    "            p = roots[0]\n",
    "            q = roots[1]\n",
    "            if p * q == n:\n",
    "                print(f'p = {p}\\n')\n",
    "                print(f'q = {q}\\n')\n",
    "                print(\"Found correct value of d!!!\")\n",
    "                print(f'd = {d}\\n')\n",
    "                obtained_plaintext = pow(ciphertext, d, n)\n",
    "                #print(obtained_plaintext)\n",
    "                obtained_plaintext = int_to_string(obtained_plaintext)\n",
    "                print(f'Hacked plaintext: {obtained_plaintext}')\n",
    "                break"
   ]
  }
 ],
 "metadata": {
  "kernelspec": {
   "display_name": "Python 3",
   "language": "python",
   "name": "python3"
  },
  "language_info": {
   "codemirror_mode": {
    "name": "ipython",
    "version": 3
   },
   "file_extension": ".py",
   "mimetype": "text/x-python",
   "name": "python",
   "nbconvert_exporter": "python",
   "pygments_lexer": "ipython3",
   "version": "3.8.5"
  }
 },
 "nbformat": 4,
 "nbformat_minor": 4
}
