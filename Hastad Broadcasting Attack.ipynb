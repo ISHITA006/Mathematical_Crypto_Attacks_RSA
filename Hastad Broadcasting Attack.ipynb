{
 "cells": [
  {
   "cell_type": "code",
   "execution_count": 1,
   "metadata": {},
   "outputs": [],
   "source": [
    "import libnum\n",
    "import random\n",
    "import math\n",
    "import gmpy2"
   ]
  },
  {
   "cell_type": "code",
   "execution_count": 2,
   "metadata": {},
   "outputs": [],
   "source": [
    "def string_to_int(s):\n",
    "    return int.from_bytes(s.encode(), byteorder='little')\n",
    "\n",
    "def int_to_string(i):\n",
    "    length = math.ceil(i.bit_length() / 8)\n",
    "    return i.to_bytes(length, byteorder='little').decode('latin-1')"
   ]
  },
  {
   "cell_type": "code",
   "execution_count": 3,
   "metadata": {},
   "outputs": [],
   "source": [
    "message = \"Hello CZ4010!!\"\n",
    "m = string_to_int(message)\n",
    "\n",
    "# Low public exponent\n",
    "e = 23 # Max value of e for which m^e < n1*n2*n3 "
   ]
  },
  {
   "cell_type": "code",
   "execution_count": 4,
   "metadata": {},
   "outputs": [],
   "source": [
    "N = []\n",
    "for i in range(3):\n",
    "    p = gmpy2.next_prime(random.getrandbits(512))\n",
    "    q = gmpy2.next_prime(random.getrandbits(512))\n",
    "    n=p*q # 1024 bit public modulus N\n",
    "    N.append(n)"
   ]
  },
  {
   "cell_type": "code",
   "execution_count": 5,
   "metadata": {},
   "outputs": [],
   "source": [
    "C = []\n",
    "for i in range(3):\n",
    "    c = pow(m, e, N[i])\n",
    "    C.append(c)"
   ]
  },
  {
   "cell_type": "code",
   "execution_count": 6,
   "metadata": {},
   "outputs": [],
   "source": [
    "# Chinese Remainder Theorem solution X = m^e mod N1 N2 N3\n",
    "res = libnum.solve_crt(C,N)"
   ]
  },
  {
   "cell_type": "code",
   "execution_count": 7,
   "metadata": {},
   "outputs": [],
   "source": [
    "# M = X^(1/e)\n",
    "obtained_message = libnum.nroot(res,e)"
   ]
  },
  {
   "cell_type": "code",
   "execution_count": 8,
   "metadata": {},
   "outputs": [],
   "source": [
    "obtained_message = int_to_string(obtained_message)"
   ]
  },
  {
   "cell_type": "code",
   "execution_count": 9,
   "metadata": {},
   "outputs": [
    {
     "name": "stdout",
     "output_type": "stream",
     "text": [
      "Hello CZ4010!!\n"
     ]
    }
   ],
   "source": [
    "print(obtained_message)"
   ]
  }
 ],
 "metadata": {
  "kernelspec": {
   "display_name": "Python 3",
   "language": "python",
   "name": "python3"
  },
  "language_info": {
   "codemirror_mode": {
    "name": "ipython",
    "version": 3
   },
   "file_extension": ".py",
   "mimetype": "text/x-python",
   "name": "python",
   "nbconvert_exporter": "python",
   "pygments_lexer": "ipython3",
   "version": "3.8.5"
  }
 },
 "nbformat": 4,
 "nbformat_minor": 4
}
