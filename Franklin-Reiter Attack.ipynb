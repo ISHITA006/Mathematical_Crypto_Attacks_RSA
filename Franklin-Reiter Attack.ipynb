{
 "cells": [
  {
   "cell_type": "code",
   "execution_count": 1,
   "metadata": {},
   "outputs": [],
   "source": [
    "from sympy import poly, symbols, gcd\n",
    "import gmpy2\n",
    "import random\n",
    "import math"
   ]
  },
  {
   "cell_type": "code",
   "execution_count": 2,
   "metadata": {},
   "outputs": [],
   "source": [
    "def FranklinReiter(c1, c2, offset):\n",
    "    x = symbols('x')\n",
    "    f1 = poly(x**e - c1).set_modulus(n)\n",
    "    f2 = poly((x + offset)**e - c2).set_modulus(n)\n",
    "    # m1 = negative coefficient of last term of result of gcd(f1, f2)\n",
    "    return -gcd(f1, f2).coeffs()[-1]"
   ]
  },
  {
   "cell_type": "code",
   "execution_count": 3,
   "metadata": {},
   "outputs": [],
   "source": [
    "def string_to_int(s):\n",
    "    return int.from_bytes(s.encode(), byteorder='little')\n",
    "\n",
    "def int_to_string(i):\n",
    "    length = math.ceil(i.bit_length() / 8)\n",
    "    return i.to_bytes(length, byteorder='little').decode('latin-1')"
   ]
  },
  {
   "cell_type": "code",
   "execution_count": 4,
   "metadata": {},
   "outputs": [],
   "source": [
    "nprimebits = 512"
   ]
  },
  {
   "cell_type": "code",
   "execution_count": 5,
   "metadata": {},
   "outputs": [],
   "source": [
    "p = gmpy2.next_prime(random.getrandbits(nprimebits))\n",
    "q = gmpy2.next_prime(random.getrandbits(nprimebits))\n",
    "n=p*q # 1024 bit public modulus N\n",
    "\n",
    "message_1 = \"My name is Ishita!!!\"\n",
    "m1 = string_to_int(message_1) \n",
    "known_offset = random.getrandbits(m1.bit_length()) # random padding\n",
    "# m2 related to m1 by random padding i.e. f(x) = x + known_offset\n",
    "m2 = m1 + known_offset \n",
    "message_2 = int_to_string(m2)\n",
    "\n",
    "# Low public exponent\n",
    "e = 173\n",
    "\n",
    "c1 = pow(m1, e, n)\n",
    "c2 = pow(m2, e, n)"
   ]
  },
  {
   "cell_type": "code",
   "execution_count": 6,
   "metadata": {},
   "outputs": [],
   "source": [
    "obtained_m1 = FranklinReiter(c1, c2, known_offset)\n",
    "obtained_m1 = int(obtained_m1)\n",
    "obtained_m2 = obtained_m1 + known_offset"
   ]
  },
  {
   "cell_type": "code",
   "execution_count": 7,
   "metadata": {},
   "outputs": [
    {
     "name": "stdout",
     "output_type": "stream",
     "text": [
      "Obtained message 1: My name is Ishita!!!\n",
      "Obtained message 2: fôr\u000b",
      "DùJ\u0015f\f",
      "\u001aÉx\u0002\u0011Æ¸åT\n",
      "\n",
      "\n",
      "Original message 1: My name is Ishita!!!\n",
      "Original message 2: fôr\u000b",
      "DùJ\u0015f\f",
      "\u001aÉx\u0002\u0011Æ¸åT\n",
      "\n",
      "\n",
      "Obtained messages same as original messages : True\n"
     ]
    }
   ],
   "source": [
    "print(f\"Obtained message 1: {int_to_string(obtained_m1)}\")\n",
    "print(f\"Obtained message 2: {int_to_string(obtained_m2)}\")\n",
    "print('\\n')\n",
    "\n",
    "print(f\"Original message 1: {message_1}\")\n",
    "print(f\"Original message 2: {message_2}\")\n",
    "print('\\n')\n",
    "\n",
    "print(f\"Obtained messages same as original messages : {(obtained_m1 == m1) and (obtained_m2 == m2)}\")"
   ]
  },
  {
   "cell_type": "code",
   "execution_count": null,
   "metadata": {},
   "outputs": [],
   "source": []
  }
 ],
 "metadata": {
  "kernelspec": {
   "display_name": "Python 3",
   "language": "python",
   "name": "python3"
  },
  "language_info": {
   "codemirror_mode": {
    "name": "ipython",
    "version": 3
   },
   "file_extension": ".py",
   "mimetype": "text/x-python",
   "name": "python",
   "nbconvert_exporter": "python",
   "pygments_lexer": "ipython3",
   "version": "3.8.5"
  }
 },
 "nbformat": 4,
 "nbformat_minor": 4
}
