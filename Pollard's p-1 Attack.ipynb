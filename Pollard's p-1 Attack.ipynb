{
 "cells": [
  {
   "cell_type": "code",
   "execution_count": 20,
   "metadata": {},
   "outputs": [],
   "source": [
    "from typing import Optional\n",
    "import gmpy2\n",
    "import random\n",
    "import math\n",
    "from itertools import chain, combinations"
   ]
  },
  {
   "cell_type": "code",
   "execution_count": 21,
   "metadata": {},
   "outputs": [],
   "source": [
    "PRIMES = primes = (2,3, 5, 7, 11, 13, 17, 19, 23, 29, 31, 37, 41, 43, 47, 53, 59, 61, 67, 71, 73, 79, 83, 89, 97,\n",
    "                   101, 103, 107, 109, 113, 127, 131, 137, 139, 149, 151, 157, 163, 167, 173, 179, 181, 191, 193,\n",
    "                   197, 199, 211, 223, 227, 229, 233, 239, 241, 251, 257, 263, 269, 271, 277, 281, 283, 293, 307,\n",
    "                   311, 313, 317, 331, 337, 347, 349, 353, 359, 367, 373, 379, 383, 389, 397, 401, 409, 419, 421,\n",
    "                   431, 433, 439, 443, 449, 457, 461, 463, 467, 479, 487, 491, 499, 503, 509, 521, 523, 541, 547,\n",
    "                   557, 563, 569, 571, 577, 587, 593, 599, 601, 607, 613, 617, 619, 631, 641, 643, 647, 653, 659, \n",
    "                   661, 673, 677, 683, 691, 701, 709, 719, 727, 733, 739, 743, 751, 757, 761, 769, 773, 787, 797, \n",
    "                   809, 811, 821, 823, 827, 829, 839, 853, 857, 859, 863, 877, 881, 883, 887, 907, 911, 919, 929,\n",
    "                   937, 941, 947, 953, 967, 971, 977, 983, 991, 997, 1009, 1013, 1019, 1021, 1031, 1033, 1039, 1049, \n",
    "                   1051, 1061, 1063, 1069, 1087, 1091, 1093, 1097, 1103, 1109, 1117, 1123, 1129, 1151, 1153, 1163, 1171,\n",
    "                   1181, 1187, 1193, 1201, 1213, 1217, 1223, 1229, 1231, 1237, 1249, 1259, 1277, 1279, 1283, 1289, 1291,\n",
    "                   1297, 1301, 1303, 1307, 1319, 1321, 1327, 1361, 1367, 1373, 1381, 1399, 1409, 1423, 1427, 1429, 1433,\n",
    "                   1439, 1447, 1451, 1453, 1459, 1471, 1481, 1483, 1487, 1489, 1493, 1499, 1511, 1523, 1531, 1543, 1549,\n",
    "                   1553, 1559, 1567, 1571, 1579, 1583, 1597, 1601, 1607, 1609, 1613, 1619, 1621, 1627, 1637, 1657, 1663,\n",
    "                   1667, 1669, 1693, 1697, 1699, 1709, 1721, 1723, 1733, 1741, 1747, 1753, 1759, 1777, 1783, 1787, 1789,\n",
    "                   1801, 1811, 1823, 1831, 1847, 1861, 1867, 1871, 1873, 1877, 1879, 1889, 1901, 1907, 1913, 1931, 1933,\n",
    "                   1949, 1951, 1973, 1979, 1987, 1993, 1997, 1999, 2003, 2011, 2017, 2027, 2029, 2039, 2053, 2063, 2069,\n",
    "                   2081, 2083, 2087, 2089, 2099, 2111, 2113, 2129, 2131, 2137, 2141, 2143, 2153, 2161, 2179, 2203, 2207,\n",
    "                   2213, 2221, 2237, 2239, 2243, 2251, 2267, 2269, 2273, 2281, 2287, 2293, 2297, 2309, 2311, 2333, 2339,\n",
    "                   2341, 2347, 2351, 2357, 2371, 2377, 2381, 2383, 2389, 2393, 2399, 2411, 2417, 2423, 2437, 2441, 2447,\n",
    "                   2459, 2467, 2473, 2477, 2503, 2521, 2531, 2539, 2543, 2549, 2551, 2557, 2579, 2591, 2593, 2609, 2617,\n",
    "                   2621, 2633, 2647, 2657, 2659, 2663, 2671, 2677, 2683, 2687, 2689, 2693, 2699, 2707, 2711, 2713, 2719,\n",
    "                   2729, 2731, 2741, 2749, 2753, 2767, 2777, 2789, 2791, 2797, 2801, 2803, 2819, 2833, 2837, 2843, 2851,\n",
    "                   2857, 2861, 2879, 2887, 2897, 2903, 2909, 2917, 2927, 2939, 2953, 2957, 2963, 2969, 2971, 2999)"
   ]
  },
  {
   "cell_type": "code",
   "execution_count": 22,
   "metadata": {},
   "outputs": [],
   "source": [
    "def product_of_primes(nprimes):  \n",
    "    product_of_primes = 1\n",
    "    if (nprimes>len(PRIMES)): nprimes=len(PRIMES)\n",
    "    for i in range(0,nprimes):\n",
    "        product_of_primes *= primes[i]\n",
    "    return product_of_primes\n",
    "\n",
    "def Pollardpm1(n: int, m: Optional[int] = None):\n",
    "    \n",
    "        # Using a = 2^(n-1) instead of a = 2 to also handle cases in which\n",
    "        # p-1 = b*m or q-1 = c*m, where either b or c is smooth\n",
    "        a = pow(2, n - 1, n)\n",
    "        p = gmpy2.gcd(pow(a, m, n) - 1, n)\n",
    "        # gcd is actually p\n",
    "        if 1 < p < n:\n",
    "            return True, [p, n // p]\n",
    "        # when both  p-1 and q-1 are smooth enough, we should try with divisors of m\n",
    "        if p == n:\n",
    "            print(\"Trying to factorize with divisors of m...\\n\")\n",
    "            res, factors = factorizeWithDivisorOfM(a, n)\n",
    "            return res, factors\n",
    "        # The factorization fails when p-1 is not 2999-powersmooth\n",
    "        # m with more and larger prime factors can be chosen, but will take much longer\n",
    "        return False, []\n",
    "\n",
    "def factorizeWithDivisorOfM(a, n):\n",
    "    # trying using product of subsets of PRIMES as new estimate of k*(p-1)\n",
    "    for result in powerset(PRIMES):\n",
    "        m = math.prod(result)\n",
    "        p = gmpy2.gcd(pow(a, m, n) - 1, n)\n",
    "        if 1 < p < n:\n",
    "            return True, [p, n // p]\n",
    "        else:\n",
    "            continue\n",
    "    return False, []\n",
    "    \n",
    "def powerset(iterable):\n",
    "    s = list(iterable)\n",
    "    return chain.from_iterable(combinations(s, r) for r in range(len(s)+1))"
   ]
  },
  {
   "cell_type": "code",
   "execution_count": 23,
   "metadata": {},
   "outputs": [
    {
     "name": "stdout",
     "output_type": "stream",
     "text": [
      "Number of bits in prime=32 and 2999-powersmooth\n",
      "\n"
     ]
    }
   ],
   "source": [
    "nprimebits=32\n",
    "nprimes = 429 # len(PRIMES) - 1 i.e. p should be factorizable into prime integers < 2999\n",
    "print(f\"Number of bits in prime={nprimebits} and {primes[nprimes]}-powersmooth\\n\")"
   ]
  },
  {
   "cell_type": "code",
   "execution_count": 24,
   "metadata": {},
   "outputs": [
    {
     "name": "stdout",
     "output_type": "stream",
     "text": [
      "Result:  True\n",
      "Factors found: 861205577, 129793847\n",
      "\n",
      "The originally generator factors were: p=129793847, q=861205577\n"
     ]
    }
   ],
   "source": [
    "# Poor factor values that can be broken by Pollard n-1 attack\n",
    "# p=3762285479, q=2263720993 ; p=1233011711, q=2692517827 ; p=3811812467, q=4260289277 ; p=107754971, q=1277844937\n",
    "# p=11257, q=25237 ; p=1504433947, q=4000118389 ; p=2389807349, q=3053820643 ; p=715069879, q=2525059253\n",
    "\n",
    "p = gmpy2.next_prime(random.getrandbits(nprimebits))\n",
    "q = gmpy2.next_prime(random.getrandbits(nprimebits))\n",
    "n = p*q\n",
    "\n",
    "# m -> Using product of PRIMES as a pre-calculated guess for K*(p-1)\n",
    "m = product_of_primes(nprimes)\n",
    "res, factors = Pollardpm1(n, m)\n",
    "print(f\"Result: \", res)\n",
    "if (len(factors)>1):\n",
    "    print(f\"Factors found: {int(factors[0])}, {int(factors[1])}\")\n",
    "else:\n",
    "    print(\"No factors discovered\")\n",
    "    \n",
    "print(f\"\\nThe originally generator factors were: p={p}, q={q}\")"
   ]
  },
  {
   "cell_type": "code",
   "execution_count": null,
   "metadata": {},
   "outputs": [],
   "source": []
  }
 ],
 "metadata": {
  "kernelspec": {
   "display_name": "Python 3",
   "language": "python",
   "name": "python3"
  },
  "language_info": {
   "codemirror_mode": {
    "name": "ipython",
    "version": 3
   },
   "file_extension": ".py",
   "mimetype": "text/x-python",
   "name": "python",
   "nbconvert_exporter": "python",
   "pygments_lexer": "ipython3",
   "version": "3.8.5"
  }
 },
 "nbformat": 4,
 "nbformat_minor": 4
}
